{
  "nbformat": 4,
  "nbformat_minor": 0,
  "metadata": {
    "colab": {
      "name": "iot_csv__aa08",
      "version": "0.3.2",
      "provenance": [],
      "collapsed_sections": [],
      "include_colab_link": true
    },
    "kernelspec": {
      "display_name": "Python 3",
      "language": "python",
      "name": "python3"
    }
  },
  "cells": [
    {
      "cell_type": "markdown",
      "metadata": {
        "id": "view-in-github",
        "colab_type": "text"
      },
      "source": [
        "<a href=\"https://colab.research.google.com/github/Gyunnni/aa08-iot/blob/master/iot_csv__aa08.ipynb\" target=\"_parent\"><img src=\"https://colab.research.google.com/assets/colab-badge.svg\" alt=\"Open In Colab\"/></a>"
      ]
    },
    {
      "metadata": {
        "id": "4RyKlSBw1DjY",
        "colab_type": "text"
      },
      "cell_type": "markdown",
      "source": [
        "### Pandas: Loading the remote csv file\n",
        "\n",
        "> [Pandas: Tutorial-reas_csv()](https://www.marsja.se/pandas-read-csv-tutorial-to-csv/amp/)"
      ]
    },
    {
      "metadata": {
        "id": "y8KjEOPg1Dja",
        "colab_type": "code",
        "colab": {}
      },
      "cell_type": "code",
      "source": [
        "import pandas as pd"
      ],
      "execution_count": 0,
      "outputs": []
    },
    {
      "metadata": {
        "id": "N4sYnKbu1Djg",
        "colab_type": "code",
        "colab": {}
      },
      "cell_type": "code",
      "source": [
        "# url=\"http://chaos.inje.ac.kr:3030/data/ppg5k.csv\"  # CORS powered express server!\n",
        "c=pd.read_csv('AA08_s1000.csv', index_col='date')"
      ],
      "execution_count": 0,
      "outputs": []
    },
    {
      "metadata": {
        "id": "MfB0c8tr1Djj",
        "colab_type": "code",
        "outputId": "c69fa273-77db-4bb9-8495-d9f30982cadc",
        "colab": {
          "base_uri": "https://localhost:8080/",
          "height": 35
        }
      },
      "cell_type": "code",
      "source": [
        "c.shape"
      ],
      "execution_count": 3,
      "outputs": [
        {
          "output_type": "execute_result",
          "data": {
            "text/plain": [
              "(1000, 3)"
            ]
          },
          "metadata": {
            "tags": []
          },
          "execution_count": 3
        }
      ]
    },
    {
      "metadata": {
        "id": "zluonvr9r22E",
        "colab_type": "code",
        "outputId": "2a9a4d6d-35a7-48f8-db2d-bb87322f8c25",
        "colab": {
          "base_uri": "https://localhost:8080/",
          "height": 235
        }
      },
      "cell_type": "code",
      "source": [
        "c.tail()"
      ],
      "execution_count": 4,
      "outputs": [
        {
          "output_type": "execute_result",
          "data": {
            "text/html": [
              "<div>\n",
              "<style scoped>\n",
              "    .dataframe tbody tr th:only-of-type {\n",
              "        vertical-align: middle;\n",
              "    }\n",
              "\n",
              "    .dataframe tbody tr th {\n",
              "        vertical-align: top;\n",
              "    }\n",
              "\n",
              "    .dataframe thead th {\n",
              "        text-align: right;\n",
              "    }\n",
              "</style>\n",
              "<table border=\"1\" class=\"dataframe\">\n",
              "  <thead>\n",
              "    <tr style=\"text-align: right;\">\n",
              "      <th></th>\n",
              "      <th>temperature</th>\n",
              "      <th>humidity</th>\n",
              "      <th>luminosity</th>\n",
              "    </tr>\n",
              "    <tr>\n",
              "      <th>date</th>\n",
              "      <th></th>\n",
              "      <th></th>\n",
              "      <th></th>\n",
              "    </tr>\n",
              "  </thead>\n",
              "  <tbody>\n",
              "    <tr>\n",
              "      <th>2018-11-27 17:27:47.894</th>\n",
              "      <td>20.5</td>\n",
              "      <td>33.1</td>\n",
              "      <td>57</td>\n",
              "    </tr>\n",
              "    <tr>\n",
              "      <th>2018-11-27 17:27:45.621</th>\n",
              "      <td>20.5</td>\n",
              "      <td>33.1</td>\n",
              "      <td>57</td>\n",
              "    </tr>\n",
              "    <tr>\n",
              "      <th>2018-11-27 17:27:43.352</th>\n",
              "      <td>20.5</td>\n",
              "      <td>33.1</td>\n",
              "      <td>57</td>\n",
              "    </tr>\n",
              "    <tr>\n",
              "      <th>2018-11-27 17:27:41.079</th>\n",
              "      <td>20.5</td>\n",
              "      <td>33.1</td>\n",
              "      <td>57</td>\n",
              "    </tr>\n",
              "    <tr>\n",
              "      <th>2018-11-27 17:27:38.805</th>\n",
              "      <td>20.4</td>\n",
              "      <td>33.0</td>\n",
              "      <td>58</td>\n",
              "    </tr>\n",
              "  </tbody>\n",
              "</table>\n",
              "</div>"
            ],
            "text/plain": [
              "                         temperature  humidity  luminosity\n",
              "date                                                      \n",
              "2018-11-27 17:27:47.894         20.5      33.1          57\n",
              "2018-11-27 17:27:45.621         20.5      33.1          57\n",
              "2018-11-27 17:27:43.352         20.5      33.1          57\n",
              "2018-11-27 17:27:41.079         20.5      33.1          57\n",
              "2018-11-27 17:27:38.805         20.4      33.0          58"
            ]
          },
          "metadata": {
            "tags": []
          },
          "execution_count": 4
        }
      ]
    },
    {
      "metadata": {
        "id": "rCMGqVrk1Djr",
        "colab_type": "code",
        "outputId": "8e3486e8-18e5-4997-f4cf-a70e29d62bac",
        "colab": {
          "base_uri": "https://localhost:8080/",
          "height": 235
        }
      },
      "cell_type": "code",
      "source": [
        "c.head()"
      ],
      "execution_count": 5,
      "outputs": [
        {
          "output_type": "execute_result",
          "data": {
            "text/html": [
              "<div>\n",
              "<style scoped>\n",
              "    .dataframe tbody tr th:only-of-type {\n",
              "        vertical-align: middle;\n",
              "    }\n",
              "\n",
              "    .dataframe tbody tr th {\n",
              "        vertical-align: top;\n",
              "    }\n",
              "\n",
              "    .dataframe thead th {\n",
              "        text-align: right;\n",
              "    }\n",
              "</style>\n",
              "<table border=\"1\" class=\"dataframe\">\n",
              "  <thead>\n",
              "    <tr style=\"text-align: right;\">\n",
              "      <th></th>\n",
              "      <th>temperature</th>\n",
              "      <th>humidity</th>\n",
              "      <th>luminosity</th>\n",
              "    </tr>\n",
              "    <tr>\n",
              "      <th>date</th>\n",
              "      <th></th>\n",
              "      <th></th>\n",
              "      <th></th>\n",
              "    </tr>\n",
              "  </thead>\n",
              "  <tbody>\n",
              "    <tr>\n",
              "      <th>2018-11-27 18:05:28.944</th>\n",
              "      <td>20.9</td>\n",
              "      <td>32.4</td>\n",
              "      <td>58</td>\n",
              "    </tr>\n",
              "    <tr>\n",
              "      <th>2018-11-27 18:05:26.671</th>\n",
              "      <td>20.8</td>\n",
              "      <td>32.3</td>\n",
              "      <td>58</td>\n",
              "    </tr>\n",
              "    <tr>\n",
              "      <th>2018-11-27 18:05:24.398</th>\n",
              "      <td>20.8</td>\n",
              "      <td>32.4</td>\n",
              "      <td>58</td>\n",
              "    </tr>\n",
              "    <tr>\n",
              "      <th>2018-11-27 18:05:22.128</th>\n",
              "      <td>20.8</td>\n",
              "      <td>32.4</td>\n",
              "      <td>58</td>\n",
              "    </tr>\n",
              "    <tr>\n",
              "      <th>2018-11-27 18:05:19.855</th>\n",
              "      <td>20.9</td>\n",
              "      <td>32.5</td>\n",
              "      <td>57</td>\n",
              "    </tr>\n",
              "  </tbody>\n",
              "</table>\n",
              "</div>"
            ],
            "text/plain": [
              "                         temperature  humidity  luminosity\n",
              "date                                                      \n",
              "2018-11-27 18:05:28.944         20.9      32.4          58\n",
              "2018-11-27 18:05:26.671         20.8      32.3          58\n",
              "2018-11-27 18:05:24.398         20.8      32.4          58\n",
              "2018-11-27 18:05:22.128         20.8      32.4          58\n",
              "2018-11-27 18:05:19.855         20.9      32.5          57"
            ]
          },
          "metadata": {
            "tags": []
          },
          "execution_count": 5
        }
      ]
    },
    {
      "metadata": {
        "id": "m8dQtyJa1Djw",
        "colab_type": "code",
        "outputId": "e1e98c34-59bb-4448-9b78-2af3970ca986",
        "colab": {
          "base_uri": "https://localhost:8080/",
          "height": 161
        }
      },
      "cell_type": "code",
      "source": [
        "c.info()"
      ],
      "execution_count": 6,
      "outputs": [
        {
          "output_type": "stream",
          "text": [
            "<class 'pandas.core.frame.DataFrame'>\n",
            "Index: 1000 entries, 2018-11-27 18:05:28.944 to 2018-11-27 17:27:38.805\n",
            "Data columns (total 3 columns):\n",
            "temperature    1000 non-null float64\n",
            "humidity       1000 non-null float64\n",
            "luminosity     1000 non-null int64\n",
            "dtypes: float64(2), int64(1)\n",
            "memory usage: 31.2+ KB\n"
          ],
          "name": "stdout"
        }
      ]
    },
    {
      "metadata": {
        "id": "m3C8fjK_1Dj2",
        "colab_type": "code",
        "outputId": "9905ad5f-7738-4853-8ee2-5e82acd1ab4f",
        "colab": {
          "base_uri": "https://localhost:8080/",
          "height": 235
        }
      },
      "cell_type": "code",
      "source": [
        "# another method to read csv \n",
        "c2=pd.read_csv('AA08_s1000.csv', index_col=0)\n",
        "c2.head()"
      ],
      "execution_count": 10,
      "outputs": [
        {
          "output_type": "execute_result",
          "data": {
            "text/html": [
              "<div>\n",
              "<style scoped>\n",
              "    .dataframe tbody tr th:only-of-type {\n",
              "        vertical-align: middle;\n",
              "    }\n",
              "\n",
              "    .dataframe tbody tr th {\n",
              "        vertical-align: top;\n",
              "    }\n",
              "\n",
              "    .dataframe thead th {\n",
              "        text-align: right;\n",
              "    }\n",
              "</style>\n",
              "<table border=\"1\" class=\"dataframe\">\n",
              "  <thead>\n",
              "    <tr style=\"text-align: right;\">\n",
              "      <th></th>\n",
              "      <th>temperature</th>\n",
              "      <th>humidity</th>\n",
              "      <th>luminosity</th>\n",
              "    </tr>\n",
              "    <tr>\n",
              "      <th>date</th>\n",
              "      <th></th>\n",
              "      <th></th>\n",
              "      <th></th>\n",
              "    </tr>\n",
              "  </thead>\n",
              "  <tbody>\n",
              "    <tr>\n",
              "      <th>2018-11-27 18:05:28.944</th>\n",
              "      <td>20.9</td>\n",
              "      <td>32.4</td>\n",
              "      <td>58</td>\n",
              "    </tr>\n",
              "    <tr>\n",
              "      <th>2018-11-27 18:05:26.671</th>\n",
              "      <td>20.8</td>\n",
              "      <td>32.3</td>\n",
              "      <td>58</td>\n",
              "    </tr>\n",
              "    <tr>\n",
              "      <th>2018-11-27 18:05:24.398</th>\n",
              "      <td>20.8</td>\n",
              "      <td>32.4</td>\n",
              "      <td>58</td>\n",
              "    </tr>\n",
              "    <tr>\n",
              "      <th>2018-11-27 18:05:22.128</th>\n",
              "      <td>20.8</td>\n",
              "      <td>32.4</td>\n",
              "      <td>58</td>\n",
              "    </tr>\n",
              "    <tr>\n",
              "      <th>2018-11-27 18:05:19.855</th>\n",
              "      <td>20.9</td>\n",
              "      <td>32.5</td>\n",
              "      <td>57</td>\n",
              "    </tr>\n",
              "  </tbody>\n",
              "</table>\n",
              "</div>"
            ],
            "text/plain": [
              "                         temperature  humidity  luminosity\n",
              "date                                                      \n",
              "2018-11-27 18:05:28.944         20.9      32.4          58\n",
              "2018-11-27 18:05:26.671         20.8      32.3          58\n",
              "2018-11-27 18:05:24.398         20.8      32.4          58\n",
              "2018-11-27 18:05:22.128         20.8      32.4          58\n",
              "2018-11-27 18:05:19.855         20.9      32.5          57"
            ]
          },
          "metadata": {
            "tags": []
          },
          "execution_count": 10
        }
      ]
    },
    {
      "metadata": {
        "id": "NbTuxzs81Dj7",
        "colab_type": "code",
        "colab": {}
      },
      "cell_type": "code",
      "source": [
        "# import matplotlib.pyplot as plt\n",
        "%matplotlib inline"
      ],
      "execution_count": 0,
      "outputs": []
    },
    {
      "metadata": {
        "id": "MyKp3iqT1Dj_",
        "colab_type": "code",
        "outputId": "5583b631-36a5-44bc-e74d-f20bbd0a0e4e",
        "colab": {
          "base_uri": "https://localhost:8080/",
          "height": 357
        }
      },
      "cell_type": "code",
      "source": [
        "c.plot(figsize=(12,5),title=\"DHT22_Sensor_Data\")"
      ],
      "execution_count": 18,
      "outputs": [
        {
          "output_type": "execute_result",
          "data": {
            "text/plain": [
              "<matplotlib.axes._subplots.AxesSubplot at 0x7fcb8452fc18>"
            ]
          },
          "metadata": {
            "tags": []
          },
          "execution_count": 18
        },
        {
          "output_type": "display_data",
          "data": {
            "image/png": "[encoded data removed]",
            "text/plain": [
              "<matplotlib.figure.Figure at 0x7fcb84661748>"
            ]
          },
          "metadata": {
            "tags": []
          }
        }
      ]
    },
    {
      "metadata": {
        "id": "4q83kwzv1DkF",
        "colab_type": "code",
        "outputId": "52b91e32-c353-428e-ae32-b8567051b6e9",
        "colab": {
          "base_uri": "https://localhost:8080/",
          "height": 357
        }
      },
      "cell_type": "code",
      "source": [
        "c[:1000].plot(figsize=(12,5), title=\"DHT22_Sensor_Data\")"
      ],
      "execution_count": 20,
      "outputs": [
        {
          "output_type": "execute_result",
          "data": {
            "text/plain": [
              "<matplotlib.axes._subplots.AxesSubplot at 0x7fcb84459ef0>"
            ]
          },
          "metadata": {
            "tags": []
          },
          "execution_count": 20
        },
        {
          "output_type": "display_data",
          "data": {
            "image/png": "[encoded data removed]",
            "text/plain": [
              "<matplotlib.figure.Figure at 0x7fcb98ffb320>"
            ]
          },
          "metadata": {
            "tags": []
          }
        }
      ]
    },
    {
      "metadata": {
        "id": "0Mjp7Izv1DkK",
        "colab_type": "text"
      },
      "cell_type": "markdown",
      "source": [
        "### iot data\n",
        "> Sensor data from Arduino with CdS and DHT22\n",
        "\n",
        "- temperature\n",
        "- humidity\n",
        "- luminosity"
      ]
    },
    {
      "metadata": {
        "id": "JocMoJ3q1DkL",
        "colab_type": "code",
        "colab": {}
      },
      "cell_type": "code",
      "source": [
        "# url=\"http://chaos.inje.ac.kr:3030/data/iot_chaos.csv\"\n",
        "iot=pd.read_csv('AA08_s1000.csv', index_col='date')"
      ],
      "execution_count": 0,
      "outputs": []
    },
    {
      "metadata": {
        "id": "d-M3o1hI1DkQ",
        "colab_type": "code",
        "outputId": "245231a3-ad17-4816-a772-dee7cd62a1ee",
        "colab": {
          "base_uri": "https://localhost:8080/",
          "height": 35
        }
      },
      "cell_type": "code",
      "source": [
        "iot.shape"
      ],
      "execution_count": 22,
      "outputs": [
        {
          "output_type": "execute_result",
          "data": {
            "text/plain": [
              "(1000, 3)"
            ]
          },
          "metadata": {
            "tags": []
          },
          "execution_count": 22
        }
      ]
    },
    {
      "metadata": {
        "id": "b5TKa9bX1DkV",
        "colab_type": "code",
        "outputId": "9855878e-fa42-4f4a-8021-5d2a99f4153a",
        "colab": {
          "base_uri": "https://localhost:8080/",
          "height": 235
        }
      },
      "cell_type": "code",
      "source": [
        "iot.head()"
      ],
      "execution_count": 23,
      "outputs": [
        {
          "output_type": "execute_result",
          "data": {
            "text/html": [
              "<div>\n",
              "<style scoped>\n",
              "    .dataframe tbody tr th:only-of-type {\n",
              "        vertical-align: middle;\n",
              "    }\n",
              "\n",
              "    .dataframe tbody tr th {\n",
              "        vertical-align: top;\n",
              "    }\n",
              "\n",
              "    .dataframe thead th {\n",
              "        text-align: right;\n",
              "    }\n",
              "</style>\n",
              "<table border=\"1\" class=\"dataframe\">\n",
              "  <thead>\n",
              "    <tr style=\"text-align: right;\">\n",
              "      <th></th>\n",
              "      <th>temperature</th>\n",
              "      <th>humidity</th>\n",
              "      <th>luminosity</th>\n",
              "    </tr>\n",
              "    <tr>\n",
              "      <th>date</th>\n",
              "      <th></th>\n",
              "      <th></th>\n",
              "      <th></th>\n",
              "    </tr>\n",
              "  </thead>\n",
              "  <tbody>\n",
              "    <tr>\n",
              "      <th>2018-11-27 18:05:28.944</th>\n",
              "      <td>20.9</td>\n",
              "      <td>32.4</td>\n",
              "      <td>58</td>\n",
              "    </tr>\n",
              "    <tr>\n",
              "      <th>2018-11-27 18:05:26.671</th>\n",
              "      <td>20.8</td>\n",
              "      <td>32.3</td>\n",
              "      <td>58</td>\n",
              "    </tr>\n",
              "    <tr>\n",
              "      <th>2018-11-27 18:05:24.398</th>\n",
              "      <td>20.8</td>\n",
              "      <td>32.4</td>\n",
              "      <td>58</td>\n",
              "    </tr>\n",
              "    <tr>\n",
              "      <th>2018-11-27 18:05:22.128</th>\n",
              "      <td>20.8</td>\n",
              "      <td>32.4</td>\n",
              "      <td>58</td>\n",
              "    </tr>\n",
              "    <tr>\n",
              "      <th>2018-11-27 18:05:19.855</th>\n",
              "      <td>20.9</td>\n",
              "      <td>32.5</td>\n",
              "      <td>57</td>\n",
              "    </tr>\n",
              "  </tbody>\n",
              "</table>\n",
              "</div>"
            ],
            "text/plain": [
              "                         temperature  humidity  luminosity\n",
              "date                                                      \n",
              "2018-11-27 18:05:28.944         20.9      32.4          58\n",
              "2018-11-27 18:05:26.671         20.8      32.3          58\n",
              "2018-11-27 18:05:24.398         20.8      32.4          58\n",
              "2018-11-27 18:05:22.128         20.8      32.4          58\n",
              "2018-11-27 18:05:19.855         20.9      32.5          57"
            ]
          },
          "metadata": {
            "tags": []
          },
          "execution_count": 23
        }
      ]
    },
    {
      "metadata": {
        "id": "CjyUNVTQ1Dkb",
        "colab_type": "code",
        "outputId": "094e9c1a-a285-478c-a8e1-3ff03c8a564d",
        "colab": {
          "base_uri": "https://localhost:8080/",
          "height": 235
        }
      },
      "cell_type": "code",
      "source": [
        "iot.tail()"
      ],
      "execution_count": 24,
      "outputs": [
        {
          "output_type": "execute_result",
          "data": {
            "text/html": [
              "<div>\n",
              "<style scoped>\n",
              "    .dataframe tbody tr th:only-of-type {\n",
              "        vertical-align: middle;\n",
              "    }\n",
              "\n",
              "    .dataframe tbody tr th {\n",
              "        vertical-align: top;\n",
              "    }\n",
              "\n",
              "    .dataframe thead th {\n",
              "        text-align: right;\n",
              "    }\n",
              "</style>\n",
              "<table border=\"1\" class=\"dataframe\">\n",
              "  <thead>\n",
              "    <tr style=\"text-align: right;\">\n",
              "      <th></th>\n",
              "      <th>temperature</th>\n",
              "      <th>humidity</th>\n",
              "      <th>luminosity</th>\n",
              "    </tr>\n",
              "    <tr>\n",
              "      <th>date</th>\n",
              "      <th></th>\n",
              "      <th></th>\n",
              "      <th></th>\n",
              "    </tr>\n",
              "  </thead>\n",
              "  <tbody>\n",
              "    <tr>\n",
              "      <th>2018-11-27 17:27:47.894</th>\n",
              "      <td>20.5</td>\n",
              "      <td>33.1</td>\n",
              "      <td>57</td>\n",
              "    </tr>\n",
              "    <tr>\n",
              "      <th>2018-11-27 17:27:45.621</th>\n",
              "      <td>20.5</td>\n",
              "      <td>33.1</td>\n",
              "      <td>57</td>\n",
              "    </tr>\n",
              "    <tr>\n",
              "      <th>2018-11-27 17:27:43.352</th>\n",
              "      <td>20.5</td>\n",
              "      <td>33.1</td>\n",
              "      <td>57</td>\n",
              "    </tr>\n",
              "    <tr>\n",
              "      <th>2018-11-27 17:27:41.079</th>\n",
              "      <td>20.5</td>\n",
              "      <td>33.1</td>\n",
              "      <td>57</td>\n",
              "    </tr>\n",
              "    <tr>\n",
              "      <th>2018-11-27 17:27:38.805</th>\n",
              "      <td>20.4</td>\n",
              "      <td>33.0</td>\n",
              "      <td>58</td>\n",
              "    </tr>\n",
              "  </tbody>\n",
              "</table>\n",
              "</div>"
            ],
            "text/plain": [
              "                         temperature  humidity  luminosity\n",
              "date                                                      \n",
              "2018-11-27 17:27:47.894         20.5      33.1          57\n",
              "2018-11-27 17:27:45.621         20.5      33.1          57\n",
              "2018-11-27 17:27:43.352         20.5      33.1          57\n",
              "2018-11-27 17:27:41.079         20.5      33.1          57\n",
              "2018-11-27 17:27:38.805         20.4      33.0          58"
            ]
          },
          "metadata": {
            "tags": []
          },
          "execution_count": 24
        }
      ]
    },
    {
      "metadata": {
        "id": "o66Mb3tp1Dki",
        "colab_type": "code",
        "outputId": "f6401e1d-3ddb-41c1-fd2e-f4f3765cfcfe",
        "colab": {
          "base_uri": "https://localhost:8080/",
          "height": 161
        }
      },
      "cell_type": "code",
      "source": [
        "iot.info()"
      ],
      "execution_count": 25,
      "outputs": [
        {
          "output_type": "stream",
          "text": [
            "<class 'pandas.core.frame.DataFrame'>\n",
            "Index: 1000 entries, 2018-11-27 18:05:28.944 to 2018-11-27 17:27:38.805\n",
            "Data columns (total 3 columns):\n",
            "temperature    1000 non-null float64\n",
            "humidity       1000 non-null float64\n",
            "luminosity     1000 non-null int64\n",
            "dtypes: float64(2), int64(1)\n",
            "memory usage: 31.2+ KB\n"
          ],
          "name": "stdout"
        }
      ]
    },
    {
      "metadata": {
        "id": "DrIb6pwx1Dkn",
        "colab_type": "text"
      },
      "cell_type": "markdown",
      "source": [
        "### Sort index by date"
      ]
    },
    {
      "metadata": {
        "id": "v3ujbMYb1Dkp",
        "colab_type": "code",
        "colab": {}
      },
      "cell_type": "code",
      "source": [
        "iot_s = iot.sort_index()"
      ],
      "execution_count": 0,
      "outputs": []
    },
    {
      "metadata": {
        "id": "OoKNtme61Dkt",
        "colab_type": "code",
        "outputId": "729d7a08-6bdc-47d2-dba4-a4a7f7d3b02f",
        "colab": {
          "base_uri": "https://localhost:8080/",
          "height": 235
        }
      },
      "cell_type": "code",
      "source": [
        "iot_s.head()"
      ],
      "execution_count": 27,
      "outputs": [
        {
          "output_type": "execute_result",
          "data": {
            "text/html": [
              "<div>\n",
              "<style scoped>\n",
              "    .dataframe tbody tr th:only-of-type {\n",
              "        vertical-align: middle;\n",
              "    }\n",
              "\n",
              "    .dataframe tbody tr th {\n",
              "        vertical-align: top;\n",
              "    }\n",
              "\n",
              "    .dataframe thead th {\n",
              "        text-align: right;\n",
              "    }\n",
              "</style>\n",
              "<table border=\"1\" class=\"dataframe\">\n",
              "  <thead>\n",
              "    <tr style=\"text-align: right;\">\n",
              "      <th></th>\n",
              "      <th>temperature</th>\n",
              "      <th>humidity</th>\n",
              "      <th>luminosity</th>\n",
              "    </tr>\n",
              "    <tr>\n",
              "      <th>date</th>\n",
              "      <th></th>\n",
              "      <th></th>\n",
              "      <th></th>\n",
              "    </tr>\n",
              "  </thead>\n",
              "  <tbody>\n",
              "    <tr>\n",
              "      <th>2018-11-27 17:27:38.805</th>\n",
              "      <td>20.4</td>\n",
              "      <td>33.0</td>\n",
              "      <td>58</td>\n",
              "    </tr>\n",
              "    <tr>\n",
              "      <th>2018-11-27 17:27:41.079</th>\n",
              "      <td>20.5</td>\n",
              "      <td>33.1</td>\n",
              "      <td>57</td>\n",
              "    </tr>\n",
              "    <tr>\n",
              "      <th>2018-11-27 17:27:43.352</th>\n",
              "      <td>20.5</td>\n",
              "      <td>33.1</td>\n",
              "      <td>57</td>\n",
              "    </tr>\n",
              "    <tr>\n",
              "      <th>2018-11-27 17:27:45.621</th>\n",
              "      <td>20.5</td>\n",
              "      <td>33.1</td>\n",
              "      <td>57</td>\n",
              "    </tr>\n",
              "    <tr>\n",
              "      <th>2018-11-27 17:27:47.894</th>\n",
              "      <td>20.5</td>\n",
              "      <td>33.1</td>\n",
              "      <td>57</td>\n",
              "    </tr>\n",
              "  </tbody>\n",
              "</table>\n",
              "</div>"
            ],
            "text/plain": [
              "                         temperature  humidity  luminosity\n",
              "date                                                      \n",
              "2018-11-27 17:27:38.805         20.4      33.0          58\n",
              "2018-11-27 17:27:41.079         20.5      33.1          57\n",
              "2018-11-27 17:27:43.352         20.5      33.1          57\n",
              "2018-11-27 17:27:45.621         20.5      33.1          57\n",
              "2018-11-27 17:27:47.894         20.5      33.1          57"
            ]
          },
          "metadata": {
            "tags": []
          },
          "execution_count": 27
        }
      ]
    },
    {
      "metadata": {
        "id": "ShvtLDxd1Dk0",
        "colab_type": "code",
        "outputId": "efefa8a7-2b4a-4cff-9546-6869544c37df",
        "colab": {
          "base_uri": "https://localhost:8080/",
          "height": 396
        }
      },
      "cell_type": "code",
      "source": [
        "iot_s.plot(figsize=(12,6))"
      ],
      "execution_count": 28,
      "outputs": [
        {
          "output_type": "execute_result",
          "data": {
            "text/plain": [
              "<matplotlib.axes._subplots.AxesSubplot at 0x7fcb844ed208>"
            ]
          },
          "metadata": {
            "tags": []
          },
          "execution_count": 28
        },
        {
          "output_type": "display_data",
          "data": {
            "image/png": "[encoded data removed]",
            "text/plain": [
              "<matplotlib.figure.Figure at 0x7fcb8442fa20>"
            ]
          },
          "metadata": {
            "tags": []
          }
        }
      ]
    },
    {
      "metadata": {
        "id": "NIrq0QfJ1Dk6",
        "colab_type": "code",
        "outputId": "44897dd2-bb2b-46ba-daa9-526129af97f9",
        "colab": {
          "base_uri": "https://localhost:8080/",
          "height": 89
        }
      },
      "cell_type": "code",
      "source": [
        "iot_s.mean()"
      ],
      "execution_count": 29,
      "outputs": [
        {
          "output_type": "execute_result",
          "data": {
            "text/plain": [
              "temperature    20.7335\n",
              "humidity       32.7820\n",
              "luminosity     55.9580\n",
              "dtype: float64"
            ]
          },
          "metadata": {
            "tags": []
          },
          "execution_count": 29
        }
      ]
    },
    {
      "metadata": {
        "id": "T_NXwO3v1Dk-",
        "colab_type": "code",
        "outputId": "a6d42596-3fc1-4e14-8332-75266bb015c6",
        "colab": {
          "base_uri": "https://localhost:8080/",
          "height": 397
        }
      },
      "cell_type": "code",
      "source": [
        "iot_s.mean().plot.bar(figsize=(10,5), title=\"iot data: temp, humi, lumi\")"
      ],
      "execution_count": 30,
      "outputs": [
        {
          "output_type": "execute_result",
          "data": {
            "text/plain": [
              "<matplotlib.axes._subplots.AxesSubplot at 0x7fcb843268d0>"
            ]
          },
          "metadata": {
            "tags": []
          },
          "execution_count": 30
        },
        {
          "output_type": "display_data",
          "data": {
            "image/png": "[encoded data removed]",
            "text/plain": [
              "<matplotlib.figure.Figure at 0x7fcb84384320>"
            ]
          },
          "metadata": {
            "tags": []
          }
        }
      ]
    },
    {
      "metadata": {
        "id": "TYGSDEGP1DlE",
        "colab_type": "text"
      },
      "cell_type": "markdown",
      "source": [
        "## Plot the change of sensor data over various time spans.\n",
        "\n",
        "- resample the data at different frequency\n",
        "- time span: 60 sec, 1 hour, 1 day, 1 week"
      ]
    },
    {
      "metadata": {
        "id": "dPgcIFOP1DlF",
        "colab_type": "code",
        "outputId": "73d5330d-0ddd-4330-c746-1a32f319e5f7",
        "colab": {
          "base_uri": "https://localhost:8080/",
          "height": 161
        }
      },
      "cell_type": "code",
      "source": [
        "iot_s.info()"
      ],
      "execution_count": 31,
      "outputs": [
        {
          "output_type": "stream",
          "text": [
            "<class 'pandas.core.frame.DataFrame'>\n",
            "Index: 1000 entries, 2018-11-27 17:27:38.805 to 2018-11-27 18:05:28.944\n",
            "Data columns (total 3 columns):\n",
            "temperature    1000 non-null float64\n",
            "humidity       1000 non-null float64\n",
            "luminosity     1000 non-null int64\n",
            "dtypes: float64(2), int64(1)\n",
            "memory usage: 31.2+ KB\n"
          ],
          "name": "stdout"
        }
      ]
    },
    {
      "metadata": {
        "id": "zr1RA5Ix1DlJ",
        "colab_type": "code",
        "outputId": "a84f274c-bf3b-44a6-c840-6cc57f8db5a5",
        "colab": {
          "base_uri": "https://localhost:8080/",
          "height": 35
        }
      },
      "cell_type": "code",
      "source": [
        "# type of index\n",
        "iot_s.index[0], type(iot_s.index[0])"
      ],
      "execution_count": 32,
      "outputs": [
        {
          "output_type": "execute_result",
          "data": {
            "text/plain": [
              "('2018-11-27 17:27:38.805', str)"
            ]
          },
          "metadata": {
            "tags": []
          },
          "execution_count": 32
        }
      ]
    },
    {
      "metadata": {
        "id": "2Tsb1Z9x1DlN",
        "colab_type": "code",
        "colab": {}
      },
      "cell_type": "code",
      "source": [
        "# Convert index to timestamp\n",
        "iot_s.index = pd.to_datetime(iot_s.index)"
      ],
      "execution_count": 0,
      "outputs": []
    },
    {
      "metadata": {
        "id": "9mAeysp31DlU",
        "colab_type": "code",
        "outputId": "a2f06dd0-f900-4495-db0d-df15ebeee8b9",
        "colab": {
          "base_uri": "https://localhost:8080/",
          "height": 161
        }
      },
      "cell_type": "code",
      "source": [
        "iot_s.info()"
      ],
      "execution_count": 34,
      "outputs": [
        {
          "output_type": "stream",
          "text": [
            "<class 'pandas.core.frame.DataFrame'>\n",
            "DatetimeIndex: 1000 entries, 2018-11-27 17:27:38.805000 to 2018-11-27 18:05:28.944000\n",
            "Data columns (total 3 columns):\n",
            "temperature    1000 non-null float64\n",
            "humidity       1000 non-null float64\n",
            "luminosity     1000 non-null int64\n",
            "dtypes: float64(2), int64(1)\n",
            "memory usage: 31.2 KB\n"
          ],
          "name": "stdout"
        }
      ]
    },
    {
      "metadata": {
        "id": "p0dZyoMy1DlY",
        "colab_type": "code",
        "outputId": "5bdc4ff3-0c6a-48e4-ec85-53bea189692a",
        "colab": {
          "base_uri": "https://localhost:8080/",
          "height": 1289
        }
      },
      "cell_type": "code",
      "source": [
        "# Estimate the mean of iot_s for every hour\n",
        "iot_s.resample('60S').mean()  # mean per each 1minutes"
      ],
      "execution_count": 40,
      "outputs": [
        {
          "output_type": "execute_result",
          "data": {
            "text/html": [
              "<div>\n",
              "<style scoped>\n",
              "    .dataframe tbody tr th:only-of-type {\n",
              "        vertical-align: middle;\n",
              "    }\n",
              "\n",
              "    .dataframe tbody tr th {\n",
              "        vertical-align: top;\n",
              "    }\n",
              "\n",
              "    .dataframe thead th {\n",
              "        text-align: right;\n",
              "    }\n",
              "</style>\n",
              "<table border=\"1\" class=\"dataframe\">\n",
              "  <thead>\n",
              "    <tr style=\"text-align: right;\">\n",
              "      <th></th>\n",
              "      <th>temperature</th>\n",
              "      <th>humidity</th>\n",
              "      <th>luminosity</th>\n",
              "    </tr>\n",
              "    <tr>\n",
              "      <th>date</th>\n",
              "      <th></th>\n",
              "      <th></th>\n",
              "      <th></th>\n",
              "    </tr>\n",
              "  </thead>\n",
              "  <tbody>\n",
              "    <tr>\n",
              "      <th>2018-11-27 17:27:00</th>\n",
              "      <td>20.490000</td>\n",
              "      <td>33.060000</td>\n",
              "      <td>54.400000</td>\n",
              "    </tr>\n",
              "    <tr>\n",
              "      <th>2018-11-27 17:28:00</th>\n",
              "      <td>20.500000</td>\n",
              "      <td>32.961538</td>\n",
              "      <td>54.423077</td>\n",
              "    </tr>\n",
              "    <tr>\n",
              "      <th>2018-11-27 17:29:00</th>\n",
              "      <td>20.503704</td>\n",
              "      <td>32.903704</td>\n",
              "      <td>57.925926</td>\n",
              "    </tr>\n",
              "    <tr>\n",
              "      <th>2018-11-27 17:30:00</th>\n",
              "      <td>20.500000</td>\n",
              "      <td>32.950000</td>\n",
              "      <td>58.384615</td>\n",
              "    </tr>\n",
              "    <tr>\n",
              "      <th>2018-11-27 17:31:00</th>\n",
              "      <td>20.496154</td>\n",
              "      <td>33.576923</td>\n",
              "      <td>56.500000</td>\n",
              "    </tr>\n",
              "    <tr>\n",
              "      <th>2018-11-27 17:32:00</th>\n",
              "      <td>20.503704</td>\n",
              "      <td>33.033333</td>\n",
              "      <td>57.259259</td>\n",
              "    </tr>\n",
              "    <tr>\n",
              "      <th>2018-11-27 17:33:00</th>\n",
              "      <td>20.511538</td>\n",
              "      <td>33.019231</td>\n",
              "      <td>56.730769</td>\n",
              "    </tr>\n",
              "    <tr>\n",
              "      <th>2018-11-27 17:34:00</th>\n",
              "      <td>20.540741</td>\n",
              "      <td>33.292593</td>\n",
              "      <td>56.777778</td>\n",
              "    </tr>\n",
              "    <tr>\n",
              "      <th>2018-11-27 17:35:00</th>\n",
              "      <td>20.588462</td>\n",
              "      <td>33.330769</td>\n",
              "      <td>56.269231</td>\n",
              "    </tr>\n",
              "    <tr>\n",
              "      <th>2018-11-27 17:36:00</th>\n",
              "      <td>20.600000</td>\n",
              "      <td>33.511538</td>\n",
              "      <td>58.000000</td>\n",
              "    </tr>\n",
              "    <tr>\n",
              "      <th>2018-11-27 17:37:00</th>\n",
              "      <td>20.618519</td>\n",
              "      <td>33.388889</td>\n",
              "      <td>58.333333</td>\n",
              "    </tr>\n",
              "    <tr>\n",
              "      <th>2018-11-27 17:38:00</th>\n",
              "      <td>20.673077</td>\n",
              "      <td>33.011538</td>\n",
              "      <td>58.576923</td>\n",
              "    </tr>\n",
              "    <tr>\n",
              "      <th>2018-11-27 17:39:00</th>\n",
              "      <td>20.670370</td>\n",
              "      <td>34.214815</td>\n",
              "      <td>57.333333</td>\n",
              "    </tr>\n",
              "    <tr>\n",
              "      <th>2018-11-27 17:40:00</th>\n",
              "      <td>20.688462</td>\n",
              "      <td>33.707692</td>\n",
              "      <td>55.269231</td>\n",
              "    </tr>\n",
              "    <tr>\n",
              "      <th>2018-11-27 17:41:00</th>\n",
              "      <td>20.696154</td>\n",
              "      <td>33.023077</td>\n",
              "      <td>53.615385</td>\n",
              "    </tr>\n",
              "    <tr>\n",
              "      <th>2018-11-27 17:42:00</th>\n",
              "      <td>20.700000</td>\n",
              "      <td>32.733333</td>\n",
              "      <td>54.777778</td>\n",
              "    </tr>\n",
              "    <tr>\n",
              "      <th>2018-11-27 17:43:00</th>\n",
              "      <td>20.711538</td>\n",
              "      <td>32.750000</td>\n",
              "      <td>54.346154</td>\n",
              "    </tr>\n",
              "    <tr>\n",
              "      <th>2018-11-27 17:44:00</th>\n",
              "      <td>20.744444</td>\n",
              "      <td>32.822222</td>\n",
              "      <td>55.333333</td>\n",
              "    </tr>\n",
              "    <tr>\n",
              "      <th>2018-11-27 17:45:00</th>\n",
              "      <td>20.780769</td>\n",
              "      <td>32.576923</td>\n",
              "      <td>60.230769</td>\n",
              "    </tr>\n",
              "    <tr>\n",
              "      <th>2018-11-27 17:46:00</th>\n",
              "      <td>20.819231</td>\n",
              "      <td>32.250000</td>\n",
              "      <td>56.076923</td>\n",
              "    </tr>\n",
              "    <tr>\n",
              "      <th>2018-11-27 17:47:00</th>\n",
              "      <td>20.814815</td>\n",
              "      <td>32.285185</td>\n",
              "      <td>54.629630</td>\n",
              "    </tr>\n",
              "    <tr>\n",
              "      <th>2018-11-27 17:48:00</th>\n",
              "      <td>20.846154</td>\n",
              "      <td>32.292308</td>\n",
              "      <td>45.538462</td>\n",
              "    </tr>\n",
              "    <tr>\n",
              "      <th>2018-11-27 17:49:00</th>\n",
              "      <td>20.896296</td>\n",
              "      <td>32.533333</td>\n",
              "      <td>51.037037</td>\n",
              "    </tr>\n",
              "    <tr>\n",
              "      <th>2018-11-27 17:50:00</th>\n",
              "      <td>20.884615</td>\n",
              "      <td>32.469231</td>\n",
              "      <td>56.038462</td>\n",
              "    </tr>\n",
              "    <tr>\n",
              "      <th>2018-11-27 17:51:00</th>\n",
              "      <td>20.851852</td>\n",
              "      <td>32.281481</td>\n",
              "      <td>56.370370</td>\n",
              "    </tr>\n",
              "    <tr>\n",
              "      <th>2018-11-27 17:52:00</th>\n",
              "      <td>20.892308</td>\n",
              "      <td>32.511538</td>\n",
              "      <td>55.538462</td>\n",
              "    </tr>\n",
              "    <tr>\n",
              "      <th>2018-11-27 17:53:00</th>\n",
              "      <td>20.884615</td>\n",
              "      <td>32.500000</td>\n",
              "      <td>52.115385</td>\n",
              "    </tr>\n",
              "    <tr>\n",
              "      <th>2018-11-27 17:54:00</th>\n",
              "      <td>20.911111</td>\n",
              "      <td>32.370370</td>\n",
              "      <td>55.074074</td>\n",
              "    </tr>\n",
              "    <tr>\n",
              "      <th>2018-11-27 17:55:00</th>\n",
              "      <td>20.919231</td>\n",
              "      <td>32.296154</td>\n",
              "      <td>56.423077</td>\n",
              "    </tr>\n",
              "    <tr>\n",
              "      <th>2018-11-27 17:56:00</th>\n",
              "      <td>20.885185</td>\n",
              "      <td>32.544444</td>\n",
              "      <td>58.185185</td>\n",
              "    </tr>\n",
              "    <tr>\n",
              "      <th>2018-11-27 17:57:00</th>\n",
              "      <td>20.846154</td>\n",
              "      <td>32.369231</td>\n",
              "      <td>58.192308</td>\n",
              "    </tr>\n",
              "    <tr>\n",
              "      <th>2018-11-27 17:58:00</th>\n",
              "      <td>20.800000</td>\n",
              "      <td>32.450000</td>\n",
              "      <td>57.923077</td>\n",
              "    </tr>\n",
              "    <tr>\n",
              "      <th>2018-11-27 17:59:00</th>\n",
              "      <td>20.800000</td>\n",
              "      <td>32.433333</td>\n",
              "      <td>58.962963</td>\n",
              "    </tr>\n",
              "    <tr>\n",
              "      <th>2018-11-27 18:00:00</th>\n",
              "      <td>20.800000</td>\n",
              "      <td>32.550000</td>\n",
              "      <td>55.923077</td>\n",
              "    </tr>\n",
              "    <tr>\n",
              "      <th>2018-11-27 18:01:00</th>\n",
              "      <td>20.822222</td>\n",
              "      <td>32.459259</td>\n",
              "      <td>53.888889</td>\n",
              "    </tr>\n",
              "    <tr>\n",
              "      <th>2018-11-27 18:02:00</th>\n",
              "      <td>20.819231</td>\n",
              "      <td>32.542308</td>\n",
              "      <td>54.615385</td>\n",
              "    </tr>\n",
              "    <tr>\n",
              "      <th>2018-11-27 18:03:00</th>\n",
              "      <td>20.834615</td>\n",
              "      <td>32.607692</td>\n",
              "      <td>56.192308</td>\n",
              "    </tr>\n",
              "    <tr>\n",
              "      <th>2018-11-27 18:04:00</th>\n",
              "      <td>20.833333</td>\n",
              "      <td>32.462963</td>\n",
              "      <td>57.074074</td>\n",
              "    </tr>\n",
              "    <tr>\n",
              "      <th>2018-11-27 18:05:00</th>\n",
              "      <td>20.815385</td>\n",
              "      <td>32.400000</td>\n",
              "      <td>58.000000</td>\n",
              "    </tr>\n",
              "  </tbody>\n",
              "</table>\n",
              "</div>"
            ],
            "text/plain": [
              "                     temperature   humidity  luminosity\n",
              "date                                                   \n",
              "2018-11-27 17:27:00    20.490000  33.060000   54.400000\n",
              "2018-11-27 17:28:00    20.500000  32.961538   54.423077\n",
              "2018-11-27 17:29:00    20.503704  32.903704   57.925926\n",
              "2018-11-27 17:30:00    20.500000  32.950000   58.384615\n",
              "2018-11-27 17:31:00    20.496154  33.576923   56.500000\n",
              "2018-11-27 17:32:00    20.503704  33.033333   57.259259\n",
              "2018-11-27 17:33:00    20.511538  33.019231   56.730769\n",
              "2018-11-27 17:34:00    20.540741  33.292593   56.777778\n",
              "2018-11-27 17:35:00    20.588462  33.330769   56.269231\n",
              "2018-11-27 17:36:00    20.600000  33.511538   58.000000\n",
              "2018-11-27 17:37:00    20.618519  33.388889   58.333333\n",
              "2018-11-27 17:38:00    20.673077  33.011538   58.576923\n",
              "2018-11-27 17:39:00    20.670370  34.214815   57.333333\n",
              "2018-11-27 17:40:00    20.688462  33.707692   55.269231\n",
              "2018-11-27 17:41:00    20.696154  33.023077   53.615385\n",
              "2018-11-27 17:42:00    20.700000  32.733333   54.777778\n",
              "2018-11-27 17:43:00    20.711538  32.750000   54.346154\n",
              "2018-11-27 17:44:00    20.744444  32.822222   55.333333\n",
              "2018-11-27 17:45:00    20.780769  32.576923   60.230769\n",
              "2018-11-27 17:46:00    20.819231  32.250000   56.076923\n",
              "2018-11-27 17:47:00    20.814815  32.285185   54.629630\n",
              "2018-11-27 17:48:00    20.846154  32.292308   45.538462\n",
              "2018-11-27 17:49:00    20.896296  32.533333   51.037037\n",
              "2018-11-27 17:50:00    20.884615  32.469231   56.038462\n",
              "2018-11-27 17:51:00    20.851852  32.281481   56.370370\n",
              "2018-11-27 17:52:00    20.892308  32.511538   55.538462\n",
              "2018-11-27 17:53:00    20.884615  32.500000   52.115385\n",
              "2018-11-27 17:54:00    20.911111  32.370370   55.074074\n",
              "2018-11-27 17:55:00    20.919231  32.296154   56.423077\n",
              "2018-11-27 17:56:00    20.885185  32.544444   58.185185\n",
              "2018-11-27 17:57:00    20.846154  32.369231   58.192308\n",
              "2018-11-27 17:58:00    20.800000  32.450000   57.923077\n",
              "2018-11-27 17:59:00    20.800000  32.433333   58.962963\n",
              "2018-11-27 18:00:00    20.800000  32.550000   55.923077\n",
              "2018-11-27 18:01:00    20.822222  32.459259   53.888889\n",
              "2018-11-27 18:02:00    20.819231  32.542308   54.615385\n",
              "2018-11-27 18:03:00    20.834615  32.607692   56.192308\n",
              "2018-11-27 18:04:00    20.833333  32.462963   57.074074\n",
              "2018-11-27 18:05:00    20.815385  32.400000   58.000000"
            ]
          },
          "metadata": {
            "tags": []
          },
          "execution_count": 40
        }
      ]
    },
    {
      "metadata": {
        "id": "erFxzpHFDLr2",
        "colab_type": "code",
        "colab": {
          "base_uri": "https://localhost:8080/",
          "height": 359
        },
        "outputId": "f3299e73-fcc4-4f1e-9064-d3b0cd3e3b7b"
      },
      "cell_type": "code",
      "source": [
        "# Estimate the mean of iot_s for every hour\n",
        "iot_s.resample('300S').mean()  # mean per each 5minutes"
      ],
      "execution_count": 41,
      "outputs": [
        {
          "output_type": "execute_result",
          "data": {
            "text/html": [
              "<div>\n",
              "<style scoped>\n",
              "    .dataframe tbody tr th:only-of-type {\n",
              "        vertical-align: middle;\n",
              "    }\n",
              "\n",
              "    .dataframe tbody tr th {\n",
              "        vertical-align: top;\n",
              "    }\n",
              "\n",
              "    .dataframe thead th {\n",
              "        text-align: right;\n",
              "    }\n",
              "</style>\n",
              "<table border=\"1\" class=\"dataframe\">\n",
              "  <thead>\n",
              "    <tr style=\"text-align: right;\">\n",
              "      <th></th>\n",
              "      <th>temperature</th>\n",
              "      <th>humidity</th>\n",
              "      <th>luminosity</th>\n",
              "    </tr>\n",
              "    <tr>\n",
              "      <th>date</th>\n",
              "      <th></th>\n",
              "      <th></th>\n",
              "      <th></th>\n",
              "    </tr>\n",
              "  </thead>\n",
              "  <tbody>\n",
              "    <tr>\n",
              "      <th>2018-11-27 17:25:00</th>\n",
              "      <td>20.500000</td>\n",
              "      <td>32.952381</td>\n",
              "      <td>55.920635</td>\n",
              "    </tr>\n",
              "    <tr>\n",
              "      <th>2018-11-27 17:30:00</th>\n",
              "      <td>20.510606</td>\n",
              "      <td>33.174242</td>\n",
              "      <td>57.128788</td>\n",
              "    </tr>\n",
              "    <tr>\n",
              "      <th>2018-11-27 17:35:00</th>\n",
              "      <td>20.630303</td>\n",
              "      <td>33.496212</td>\n",
              "      <td>57.704545</td>\n",
              "    </tr>\n",
              "    <tr>\n",
              "      <th>2018-11-27 17:40:00</th>\n",
              "      <td>20.708333</td>\n",
              "      <td>33.003788</td>\n",
              "      <td>54.674242</td>\n",
              "    </tr>\n",
              "    <tr>\n",
              "      <th>2018-11-27 17:45:00</th>\n",
              "      <td>20.831818</td>\n",
              "      <td>32.387879</td>\n",
              "      <td>53.492424</td>\n",
              "    </tr>\n",
              "    <tr>\n",
              "      <th>2018-11-27 17:50:00</th>\n",
              "      <td>20.884848</td>\n",
              "      <td>32.425000</td>\n",
              "      <td>55.037879</td>\n",
              "    </tr>\n",
              "    <tr>\n",
              "      <th>2018-11-27 17:55:00</th>\n",
              "      <td>20.850000</td>\n",
              "      <td>32.419697</td>\n",
              "      <td>57.946970</td>\n",
              "    </tr>\n",
              "    <tr>\n",
              "      <th>2018-11-27 18:00:00</th>\n",
              "      <td>20.821970</td>\n",
              "      <td>32.523485</td>\n",
              "      <td>55.537879</td>\n",
              "    </tr>\n",
              "    <tr>\n",
              "      <th>2018-11-27 18:05:00</th>\n",
              "      <td>20.815385</td>\n",
              "      <td>32.400000</td>\n",
              "      <td>58.000000</td>\n",
              "    </tr>\n",
              "  </tbody>\n",
              "</table>\n",
              "</div>"
            ],
            "text/plain": [
              "                     temperature   humidity  luminosity\n",
              "date                                                   \n",
              "2018-11-27 17:25:00    20.500000  32.952381   55.920635\n",
              "2018-11-27 17:30:00    20.510606  33.174242   57.128788\n",
              "2018-11-27 17:35:00    20.630303  33.496212   57.704545\n",
              "2018-11-27 17:40:00    20.708333  33.003788   54.674242\n",
              "2018-11-27 17:45:00    20.831818  32.387879   53.492424\n",
              "2018-11-27 17:50:00    20.884848  32.425000   55.037879\n",
              "2018-11-27 17:55:00    20.850000  32.419697   57.946970\n",
              "2018-11-27 18:00:00    20.821970  32.523485   55.537879\n",
              "2018-11-27 18:05:00    20.815385  32.400000   58.000000"
            ]
          },
          "metadata": {
            "tags": []
          },
          "execution_count": 41
        }
      ]
    },
    {
      "metadata": {
        "id": "2FZqMOrSDXq-",
        "colab_type": "code",
        "colab": {
          "base_uri": "https://localhost:8080/",
          "height": 235
        },
        "outputId": "81ca23d6-4456-4d5f-a312-a7ca5e10dcbc"
      },
      "cell_type": "code",
      "source": [
        "# Estimate the mean of iot_s for every hour\n",
        "iot_s.resample('600S').mean()  # mean per each 10minutes"
      ],
      "execution_count": 42,
      "outputs": [
        {
          "output_type": "execute_result",
          "data": {
            "text/html": [
              "<div>\n",
              "<style scoped>\n",
              "    .dataframe tbody tr th:only-of-type {\n",
              "        vertical-align: middle;\n",
              "    }\n",
              "\n",
              "    .dataframe tbody tr th {\n",
              "        vertical-align: top;\n",
              "    }\n",
              "\n",
              "    .dataframe thead th {\n",
              "        text-align: right;\n",
              "    }\n",
              "</style>\n",
              "<table border=\"1\" class=\"dataframe\">\n",
              "  <thead>\n",
              "    <tr style=\"text-align: right;\">\n",
              "      <th></th>\n",
              "      <th>temperature</th>\n",
              "      <th>humidity</th>\n",
              "      <th>luminosity</th>\n",
              "    </tr>\n",
              "    <tr>\n",
              "      <th>date</th>\n",
              "      <th></th>\n",
              "      <th></th>\n",
              "      <th></th>\n",
              "    </tr>\n",
              "  </thead>\n",
              "  <tbody>\n",
              "    <tr>\n",
              "      <th>2018-11-27 17:20:00</th>\n",
              "      <td>20.500000</td>\n",
              "      <td>32.952381</td>\n",
              "      <td>55.920635</td>\n",
              "    </tr>\n",
              "    <tr>\n",
              "      <th>2018-11-27 17:30:00</th>\n",
              "      <td>20.570455</td>\n",
              "      <td>33.335227</td>\n",
              "      <td>57.416667</td>\n",
              "    </tr>\n",
              "    <tr>\n",
              "      <th>2018-11-27 17:40:00</th>\n",
              "      <td>20.770076</td>\n",
              "      <td>32.695833</td>\n",
              "      <td>54.083333</td>\n",
              "    </tr>\n",
              "    <tr>\n",
              "      <th>2018-11-27 17:50:00</th>\n",
              "      <td>20.867424</td>\n",
              "      <td>32.422348</td>\n",
              "      <td>56.492424</td>\n",
              "    </tr>\n",
              "    <tr>\n",
              "      <th>2018-11-27 18:00:00</th>\n",
              "      <td>20.821379</td>\n",
              "      <td>32.512414</td>\n",
              "      <td>55.758621</td>\n",
              "    </tr>\n",
              "  </tbody>\n",
              "</table>\n",
              "</div>"
            ],
            "text/plain": [
              "                     temperature   humidity  luminosity\n",
              "date                                                   \n",
              "2018-11-27 17:20:00    20.500000  32.952381   55.920635\n",
              "2018-11-27 17:30:00    20.570455  33.335227   57.416667\n",
              "2018-11-27 17:40:00    20.770076  32.695833   54.083333\n",
              "2018-11-27 17:50:00    20.867424  32.422348   56.492424\n",
              "2018-11-27 18:00:00    20.821379  32.512414   55.758621"
            ]
          },
          "metadata": {
            "tags": []
          },
          "execution_count": 42
        }
      ]
    },
    {
      "metadata": {
        "id": "i3BiiT-L1Dle",
        "colab_type": "code",
        "outputId": "aba5128d-4fd1-4707-d17d-a727df29b514",
        "colab": {
          "base_uri": "https://localhost:8080/",
          "height": 421
        }
      },
      "cell_type": "code",
      "source": [
        "#  1minute\n",
        "iot_s.resample('60S').mean().plot(figsize=(12,6), title='Hourly change of temp, humi, and lumi', \n",
        "                                ylim=[0,90])"
      ],
      "execution_count": 51,
      "outputs": [
        {
          "output_type": "execute_result",
          "data": {
            "text/plain": [
              "<matplotlib.axes._subplots.AxesSubplot at 0x7fcb83d71748>"
            ]
          },
          "metadata": {
            "tags": []
          },
          "execution_count": 51
        },
        {
          "output_type": "display_data",
          "data": {
            "image/png": "[encoded data removed]",
            "text/plain": [
              "<matplotlib.figure.Figure at 0x7fcb83d565f8>"
            ]
          },
          "metadata": {
            "tags": []
          }
        }
      ]
    },
    {
      "metadata": {
        "id": "SN_1Gsc8Dw_-",
        "colab_type": "code",
        "colab": {
          "base_uri": "https://localhost:8080/",
          "height": 421
        },
        "outputId": "c2ccdb0b-fc54-41f0-f97d-efab24f5a0a5"
      },
      "cell_type": "code",
      "source": [
        "#  5minutes\n",
        "\n",
        "iot_s.resample('300S').mean().plot(figsize=(12,6), title='Hourly change of temp, humi, and lumi', \n",
        "                                ylim=[0,90])"
      ],
      "execution_count": 52,
      "outputs": [
        {
          "output_type": "execute_result",
          "data": {
            "text/plain": [
              "<matplotlib.axes._subplots.AxesSubplot at 0x7fcb83dea860>"
            ]
          },
          "metadata": {
            "tags": []
          },
          "execution_count": 52
        },
        {
          "output_type": "display_data",
          "data": {
            "image/png": "[encoded data removed]",
            "text/plain": [
              "<matplotlib.figure.Figure at 0x7fcb83cf19b0>"
            ]
          },
          "metadata": {
            "tags": []
          }
        }
      ]
    },
    {
      "metadata": {
        "id": "l1c6pu60D07W",
        "colab_type": "code",
        "colab": {
          "base_uri": "https://localhost:8080/",
          "height": 421
        },
        "outputId": "37598776-41a3-43df-95a7-6fc30b837825"
      },
      "cell_type": "code",
      "source": [
        "#  10minutes\n",
        "iot_s.resample('600S').mean().plot(figsize=(12,6), title='Hourly change of temp, humi, and lumi', \n",
        "                                ylim=[0,90])"
      ],
      "execution_count": 53,
      "outputs": [
        {
          "output_type": "execute_result",
          "data": {
            "text/plain": [
              "<matplotlib.axes._subplots.AxesSubplot at 0x7fcb83c9fd68>"
            ]
          },
          "metadata": {
            "tags": []
          },
          "execution_count": 53
        },
        {
          "output_type": "display_data",
          "data": {
            "image/png": "[encoded data removed]",
            "text/plain": [
              "<matplotlib.figure.Figure at 0x7fcb83e3b748>"
            ]
          },
          "metadata": {
            "tags": []
          }
        }
      ]
    },
    {
      "metadata": {
        "id": "1Na-aiX31Dli",
        "colab_type": "code",
        "outputId": "b8e5e34c-5095-4ebc-90f3-7a1e1d90aef8",
        "colab": {
          "base_uri": "https://localhost:8080/",
          "height": 421
        }
      },
      "cell_type": "code",
      "source": [
        "#  1minute\n",
        "iot_s.resample('60S').mean().plot(kind='line', marker='o', ms=10, figsize=(12,6), title='Daily change of temperature, humidity, and luminosity')"
      ],
      "execution_count": 54,
      "outputs": [
        {
          "output_type": "execute_result",
          "data": {
            "text/plain": [
              "<matplotlib.axes._subplots.AxesSubplot at 0x7fcb83c1c0b8>"
            ]
          },
          "metadata": {
            "tags": []
          },
          "execution_count": 54
        },
        {
          "output_type": "display_data",
          "data": {
            "image/png": "[encoded data removed]",
            "text/plain": [
              "<matplotlib.figure.Figure at 0x7fcb83be1d30>"
            ]
          },
          "metadata": {
            "tags": []
          }
        }
      ]
    },
    {
      "metadata": {
        "id": "raoJF1itEQRg",
        "colab_type": "code",
        "colab": {
          "base_uri": "https://localhost:8080/",
          "height": 421
        },
        "outputId": "dabc4d1a-7ff9-4ba2-e36d-1ab6501106e7"
      },
      "cell_type": "code",
      "source": [
        "#  5minutes\n",
        "iot_s.resample('300S').mean().plot(kind='line', marker='o', ms=10, figsize=(12,6), title='Daily change of temperature, humidity, and luminosity')"
      ],
      "execution_count": 55,
      "outputs": [
        {
          "output_type": "execute_result",
          "data": {
            "text/plain": [
              "<matplotlib.axes._subplots.AxesSubplot at 0x7fcb83b84a58>"
            ]
          },
          "metadata": {
            "tags": []
          },
          "execution_count": 55
        },
        {
          "output_type": "display_data",
          "data": {
            "image/png": "[encoded data removed]",
            "text/plain": [
              "<matplotlib.figure.Figure at 0x7fcb83bb7b70>"
            ]
          },
          "metadata": {
            "tags": []
          }
        }
      ]
    },
    {
      "metadata": {
        "id": "qnr17L2GES8W",
        "colab_type": "code",
        "colab": {
          "base_uri": "https://localhost:8080/",
          "height": 421
        },
        "outputId": "e554fc01-5f24-4328-b6a8-46184db7219e"
      },
      "cell_type": "code",
      "source": [
        "#  10minutes\n",
        "iot_s.resample('600S').mean().plot(kind='line', marker='o', ms=10, figsize=(12,6), title='Daily change of temperature, humidity, and luminosity')"
      ],
      "execution_count": 56,
      "outputs": [
        {
          "output_type": "execute_result",
          "data": {
            "text/plain": [
              "<matplotlib.axes._subplots.AxesSubplot at 0x7fcb83ce3550>"
            ]
          },
          "metadata": {
            "tags": []
          },
          "execution_count": 56
        },
        {
          "output_type": "display_data",
          "data": {
            "image/png": "[encoded data removed]",
            "text/plain": [
              "<matplotlib.figure.Figure at 0x7fcb83b36f60>"
            ]
          },
          "metadata": {
            "tags": []
          }
        }
      ]
    },
    {
      "metadata": {
        "id": "zNs608SE3PxR",
        "colab_type": "text"
      },
      "cell_type": "markdown",
      "source": [
        "\n",
        "\n",
        "---\n",
        "\n"
      ]
    },
    {
      "metadata": {
        "id": "bSJOj1mh1Dl0",
        "colab_type": "code",
        "colab": {}
      },
      "cell_type": "code",
      "source": [
        ""
      ],
      "execution_count": 0,
      "outputs": []
    }
  ]
}